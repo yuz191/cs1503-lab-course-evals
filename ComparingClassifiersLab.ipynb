{
 "cells": [
  {
   "cell_type": "markdown",
   "id": "bc65c1ac-a55a-4006-b137-43b6cf2d3bbb",
   "metadata": {},
   "source": [
    "# Skill lab: Comparing classifiers\n"
   ]
  },
  {
   "cell_type": "markdown",
   "id": "10c0922d-6266-4e9f-98ca-5031daf253d0",
   "metadata": {},
   "source": [
    "In this assignment you will apply the statistical tools we learned to a machine learning task of comparing performance of two classifiers.\n",
    "\n",
    "By the end of this lab you will know\n",
    "- How to implement a k-nearest neighbor classifier.\n",
    "- How to perform a k-fold cross validation.\n",
    "- How to find confidence intervals for a classiifer performance based on a sample.\n",
    "- How to statistically compare performance of two classsifiers.\n",
    "\n"
   ]
  },
  {
   "cell_type": "markdown",
   "id": "c5e80c23-0344-429e-a59a-a9c2ffc0c938",
   "metadata": {},
   "source": [
    "You need to perform the following seven tasks:\n",
    "1. Compute the accuracy of the Naive Bayes classifier based on the holdout estimation. Next, compute the confidence interval for accuracy at the confidence level 0.90.\n",
    "2. Break the original dataset into 10 folds for cross-validation of Naive Bayes classifier. Obtain classification results from 10 cross-validation experiments.\n",
    "3. Implement the Nearest Neighbors classifier. \n",
    "4. Use it to find the accuracy based on the holdout estimation. Compute the confidence interval at the confidence level 0.90. \n",
    "5. Generate the same 10-folds from a dataset with all numeric attributes and obtain classification results using the k-NN classifer. \n",
    "6. Test the hypothesis that two classifers have a diferent performance at significance level 0.05.\n",
    "7. Use the best classifier to predict the evaluation score of several instructors that you know."
   ]
  },
  {
   "cell_type": "markdown",
   "id": "eb0eb93b-561f-4c12-9eb2-eefe2236edc8",
   "metadata": {},
   "source": [
    "Feel free to use any programming tools available: pandas, plain python, numpy or anything else. \n",
    "\n",
    "**You are not allowed to use sklearn or any other python library that already includes the implementation of all these tasks**.\n"
   ]
  },
  {
   "cell_type": "markdown",
   "id": "e7aff16f-0f60-4214-aa6c-da0b046a2cd8",
   "metadata": {},
   "source": [
    "## Dataset"
   ]
  },
  {
   "cell_type": "markdown",
   "id": "b0a2fba9-4b17-4f44-a933-e49bfabe2d5b",
   "metadata": {},
   "source": [
    "The dataset for this lab contains about 460 anonymized student evaluations collected at the University of Texas at Austin, and used in the following publication: \"Beauty in the Classroom: Instructors' Pulchritude and Putative Pedagogical Productivity\". You can learn how the data was collected and the meaning of various data attributes following [THIS LINK](https://chance.amstat.org/2013/04/looking-good/).\n",
    "\n",
    "We use a subset of attributes. This smaller subset of the original data is included in the repository. We want to build a classifier that &mdash; based on these attributes &mdash; will predict the evaluation result for each instructor: good (&ge; 4) or bad (<4). "
   ]
  },
  {
   "cell_type": "code",
   "execution_count": 140,
   "id": "0db48b60-0f61-4053-961f-f771c02a931b",
   "metadata": {},
   "outputs": [],
   "source": [
    "data_file = \"SStudentEvaluations.csv\""
   ]
  },
  {
   "cell_type": "code",
   "execution_count": 141,
   "id": "71d0728c-ffd0-4248-8bb7-1ecc85f7f794",
   "metadata": {},
   "outputs": [
    {
     "name": "stdout",
     "output_type": "stream",
     "text": [
      "Index(['rank', 'ethnicity', 'gender', 'language', 'age', 'bty_avg',\n",
      "       'eval_categorical'],\n",
      "      dtype='object')\n",
      "rank                 object\n",
      "ethnicity            object\n",
      "gender               object\n",
      "language             object\n",
      "age                   int64\n",
      "bty_avg             float64\n",
      "eval_categorical     object\n",
      "dtype: object\n"
     ]
    }
   ],
   "source": [
    "import pandas as pd\n",
    "\n",
    "data = pd.read_csv(data_file)\n",
    "print(data.columns)\n",
    "print(data.dtypes)"
   ]
  },
  {
   "cell_type": "code",
   "execution_count": 142,
   "id": "f232e92e-bf9c-41e2-ac2e-611605488dc8",
   "metadata": {},
   "outputs": [
    {
     "data": {
      "text/html": [
       "<div>\n",
       "<style scoped>\n",
       "    .dataframe tbody tr th:only-of-type {\n",
       "        vertical-align: middle;\n",
       "    }\n",
       "\n",
       "    .dataframe tbody tr th {\n",
       "        vertical-align: top;\n",
       "    }\n",
       "\n",
       "    .dataframe thead th {\n",
       "        text-align: right;\n",
       "    }\n",
       "</style>\n",
       "<table border=\"1\" class=\"dataframe\">\n",
       "  <thead>\n",
       "    <tr style=\"text-align: right;\">\n",
       "      <th></th>\n",
       "      <th>rank</th>\n",
       "      <th>ethnicity</th>\n",
       "      <th>gender</th>\n",
       "      <th>language</th>\n",
       "      <th>age</th>\n",
       "      <th>bty_avg</th>\n",
       "      <th>eval_categorical</th>\n",
       "    </tr>\n",
       "  </thead>\n",
       "  <tbody>\n",
       "    <tr>\n",
       "      <th>0</th>\n",
       "      <td>tenure track</td>\n",
       "      <td>minority</td>\n",
       "      <td>female</td>\n",
       "      <td>english</td>\n",
       "      <td>36</td>\n",
       "      <td>5.000</td>\n",
       "      <td>good</td>\n",
       "    </tr>\n",
       "    <tr>\n",
       "      <th>1</th>\n",
       "      <td>tenure track</td>\n",
       "      <td>minority</td>\n",
       "      <td>female</td>\n",
       "      <td>english</td>\n",
       "      <td>36</td>\n",
       "      <td>5.000</td>\n",
       "      <td>bad</td>\n",
       "    </tr>\n",
       "    <tr>\n",
       "      <th>2</th>\n",
       "      <td>tenure track</td>\n",
       "      <td>minority</td>\n",
       "      <td>female</td>\n",
       "      <td>english</td>\n",
       "      <td>36</td>\n",
       "      <td>5.000</td>\n",
       "      <td>bad</td>\n",
       "    </tr>\n",
       "    <tr>\n",
       "      <th>3</th>\n",
       "      <td>tenure track</td>\n",
       "      <td>minority</td>\n",
       "      <td>female</td>\n",
       "      <td>english</td>\n",
       "      <td>36</td>\n",
       "      <td>5.000</td>\n",
       "      <td>good</td>\n",
       "    </tr>\n",
       "    <tr>\n",
       "      <th>4</th>\n",
       "      <td>tenured</td>\n",
       "      <td>not minority</td>\n",
       "      <td>male</td>\n",
       "      <td>english</td>\n",
       "      <td>59</td>\n",
       "      <td>3.000</td>\n",
       "      <td>good</td>\n",
       "    </tr>\n",
       "    <tr>\n",
       "      <th>...</th>\n",
       "      <td>...</td>\n",
       "      <td>...</td>\n",
       "      <td>...</td>\n",
       "      <td>...</td>\n",
       "      <td>...</td>\n",
       "      <td>...</td>\n",
       "      <td>...</td>\n",
       "    </tr>\n",
       "    <tr>\n",
       "      <th>458</th>\n",
       "      <td>tenure track</td>\n",
       "      <td>not minority</td>\n",
       "      <td>male</td>\n",
       "      <td>english</td>\n",
       "      <td>32</td>\n",
       "      <td>6.833</td>\n",
       "      <td>good</td>\n",
       "    </tr>\n",
       "    <tr>\n",
       "      <th>459</th>\n",
       "      <td>tenure track</td>\n",
       "      <td>minority</td>\n",
       "      <td>female</td>\n",
       "      <td>non-english</td>\n",
       "      <td>42</td>\n",
       "      <td>5.333</td>\n",
       "      <td>bad</td>\n",
       "    </tr>\n",
       "    <tr>\n",
       "      <th>460</th>\n",
       "      <td>tenure track</td>\n",
       "      <td>minority</td>\n",
       "      <td>female</td>\n",
       "      <td>non-english</td>\n",
       "      <td>42</td>\n",
       "      <td>5.333</td>\n",
       "      <td>bad</td>\n",
       "    </tr>\n",
       "    <tr>\n",
       "      <th>461</th>\n",
       "      <td>tenure track</td>\n",
       "      <td>minority</td>\n",
       "      <td>female</td>\n",
       "      <td>non-english</td>\n",
       "      <td>42</td>\n",
       "      <td>5.333</td>\n",
       "      <td>bad</td>\n",
       "    </tr>\n",
       "    <tr>\n",
       "      <th>462</th>\n",
       "      <td>tenure track</td>\n",
       "      <td>minority</td>\n",
       "      <td>female</td>\n",
       "      <td>non-english</td>\n",
       "      <td>42</td>\n",
       "      <td>5.333</td>\n",
       "      <td>good</td>\n",
       "    </tr>\n",
       "  </tbody>\n",
       "</table>\n",
       "<p>463 rows × 7 columns</p>\n",
       "</div>"
      ],
      "text/plain": [
       "             rank     ethnicity  gender     language  age  bty_avg  \\\n",
       "0    tenure track      minority  female      english   36    5.000   \n",
       "1    tenure track      minority  female      english   36    5.000   \n",
       "2    tenure track      minority  female      english   36    5.000   \n",
       "3    tenure track      minority  female      english   36    5.000   \n",
       "4         tenured  not minority    male      english   59    3.000   \n",
       "..            ...           ...     ...          ...  ...      ...   \n",
       "458  tenure track  not minority    male      english   32    6.833   \n",
       "459  tenure track      minority  female  non-english   42    5.333   \n",
       "460  tenure track      minority  female  non-english   42    5.333   \n",
       "461  tenure track      minority  female  non-english   42    5.333   \n",
       "462  tenure track      minority  female  non-english   42    5.333   \n",
       "\n",
       "    eval_categorical  \n",
       "0               good  \n",
       "1                bad  \n",
       "2                bad  \n",
       "3               good  \n",
       "4               good  \n",
       "..               ...  \n",
       "458             good  \n",
       "459              bad  \n",
       "460              bad  \n",
       "461              bad  \n",
       "462             good  \n",
       "\n",
       "[463 rows x 7 columns]"
      ]
     },
     "metadata": {},
     "output_type": "display_data"
    }
   ],
   "source": [
    "display(data)"
   ]
  },
  {
   "cell_type": "markdown",
   "id": "671a75ac-34c0-4397-a8c8-6190877df71f",
   "metadata": {},
   "source": [
    "First of all, we will shuffle the data. We use a seeded randomization &mdash; so we can obtain reproducible results (needed for testing of your work)."
   ]
  },
  {
   "cell_type": "code",
   "execution_count": 143,
   "id": "623220bb-1fe8-46c1-a568-4f0edf9a8703",
   "metadata": {},
   "outputs": [
    {
     "data": {
      "text/html": [
       "<div>\n",
       "<style scoped>\n",
       "    .dataframe tbody tr th:only-of-type {\n",
       "        vertical-align: middle;\n",
       "    }\n",
       "\n",
       "    .dataframe tbody tr th {\n",
       "        vertical-align: top;\n",
       "    }\n",
       "\n",
       "    .dataframe thead th {\n",
       "        text-align: right;\n",
       "    }\n",
       "</style>\n",
       "<table border=\"1\" class=\"dataframe\">\n",
       "  <thead>\n",
       "    <tr style=\"text-align: right;\">\n",
       "      <th></th>\n",
       "      <th>rank</th>\n",
       "      <th>ethnicity</th>\n",
       "      <th>gender</th>\n",
       "      <th>language</th>\n",
       "      <th>age</th>\n",
       "      <th>bty_avg</th>\n",
       "      <th>eval_categorical</th>\n",
       "    </tr>\n",
       "  </thead>\n",
       "  <tbody>\n",
       "    <tr>\n",
       "      <th>331</th>\n",
       "      <td>tenured</td>\n",
       "      <td>not minority</td>\n",
       "      <td>male</td>\n",
       "      <td>english</td>\n",
       "      <td>64</td>\n",
       "      <td>2.333</td>\n",
       "      <td>bad</td>\n",
       "    </tr>\n",
       "    <tr>\n",
       "      <th>101</th>\n",
       "      <td>tenured</td>\n",
       "      <td>not minority</td>\n",
       "      <td>female</td>\n",
       "      <td>english</td>\n",
       "      <td>46</td>\n",
       "      <td>4.333</td>\n",
       "      <td>good</td>\n",
       "    </tr>\n",
       "    <tr>\n",
       "      <th>192</th>\n",
       "      <td>tenured</td>\n",
       "      <td>not minority</td>\n",
       "      <td>male</td>\n",
       "      <td>english</td>\n",
       "      <td>54</td>\n",
       "      <td>2.333</td>\n",
       "      <td>good</td>\n",
       "    </tr>\n",
       "    <tr>\n",
       "      <th>66</th>\n",
       "      <td>teaching</td>\n",
       "      <td>not minority</td>\n",
       "      <td>male</td>\n",
       "      <td>english</td>\n",
       "      <td>37</td>\n",
       "      <td>4.333</td>\n",
       "      <td>bad</td>\n",
       "    </tr>\n",
       "    <tr>\n",
       "      <th>327</th>\n",
       "      <td>tenured</td>\n",
       "      <td>not minority</td>\n",
       "      <td>male</td>\n",
       "      <td>english</td>\n",
       "      <td>64</td>\n",
       "      <td>2.333</td>\n",
       "      <td>bad</td>\n",
       "    </tr>\n",
       "  </tbody>\n",
       "</table>\n",
       "</div>"
      ],
      "text/plain": [
       "         rank     ethnicity  gender language  age  bty_avg eval_categorical\n",
       "331   tenured  not minority    male  english   64    2.333              bad\n",
       "101   tenured  not minority  female  english   46    4.333             good\n",
       "192   tenured  not minority    male  english   54    2.333             good\n",
       "66   teaching  not minority    male  english   37    4.333              bad\n",
       "327   tenured  not minority    male  english   64    2.333              bad"
      ]
     },
     "execution_count": 143,
     "metadata": {},
     "output_type": "execute_result"
    }
   ],
   "source": [
    "data = data.sample(frac = 1, random_state=1)    # shuffling the data before performing any validation\n",
    "data.head()"
   ]
  },
  {
   "cell_type": "markdown",
   "id": "8943d690-a0d8-41e8-bd3e-34672b0de8cc",
   "metadata": {},
   "source": [
    "### Holdout estimation\n",
    "That is how we can divide the dataset into training and testing sets in proportion of ~ 2:1:"
   ]
  },
  {
   "cell_type": "code",
   "execution_count": 144,
   "id": "d9effe48-6b19-4dc9-9235-43f8b15af1df",
   "metadata": {},
   "outputs": [
    {
     "name": "stdout",
     "output_type": "stream",
     "text": [
      "463\n",
      "305\n"
     ]
    }
   ],
   "source": [
    "# Select ratio\n",
    "ratio = 0.66\n",
    " \n",
    "total_rows = data.shape[0]\n",
    "print(total_rows)\n",
    "train_size = int(total_rows*ratio)\n",
    "print(train_size)\n",
    " \n",
    "# Split data into test and train\n",
    "data_train = data[0:train_size]\n",
    "data_test = data[train_size:]"
   ]
  },
  {
   "cell_type": "code",
   "execution_count": 145,
   "id": "ebbf6bb4-de4a-443c-820f-34ea9e73a6a9",
   "metadata": {},
   "outputs": [
    {
     "data": {
      "text/plain": [
       "305"
      ]
     },
     "execution_count": 145,
     "metadata": {},
     "output_type": "execute_result"
    }
   ],
   "source": [
    "data_train.shape[0]"
   ]
  },
  {
   "cell_type": "code",
   "execution_count": 146,
   "id": "33755b32-9e8f-4433-bd0e-b960ca84146d",
   "metadata": {},
   "outputs": [
    {
     "data": {
      "text/plain": [
       "158"
      ]
     },
     "execution_count": 146,
     "metadata": {},
     "output_type": "execute_result"
    }
   ],
   "source": [
    "data_test.shape[0]"
   ]
  },
  {
   "cell_type": "markdown",
   "id": "823f819b-1a8c-43b3-a708-9db1dd4a958b",
   "metadata": {},
   "source": [
    "## Naive Bayes classifier"
   ]
  },
  {
   "cell_type": "markdown",
   "id": "711156d4-90c9-47c0-9530-09aa09df56f6",
   "metadata": {},
   "source": [
    "Below we provide our implementation of the first classifier: Naive Bayes.\n",
    "\n",
    "We have a mix of cathegorical and numeric attributes. We will produce counts and probabilities for cathegorical attributes. We will also precompute the mean and standard deviation for the numeric attributes which we will later use with the normal distribution probability density function (PDF) to compute the contribution of numeric attributes. "
   ]
  },
  {
   "cell_type": "markdown",
   "id": "f9a7a384-fcd6-4562-a416-ace8f7b340aa",
   "metadata": {},
   "source": [
    "Here is an implementation of the PDF:"
   ]
  },
  {
   "cell_type": "code",
   "execution_count": 147,
   "id": "418cb17e-30ca-4c46-a1c6-ffb0f589ada0",
   "metadata": {},
   "outputs": [],
   "source": [
    "from math import *\n",
    "\n",
    "def normal_pdf(x, stat):\n",
    "    \"\"\"\n",
    "    :param x: a variable\n",
    "    :param mean: µ - the expected value or average from M samples\n",
    "    :param stdev: σ - standard deviation\n",
    "    :return: Gaussian (Normal) Density function.\n",
    "    N(x; µ, σ) = (1 / 2πσ) * (e ^ (x–µ)^2/-2σ^2\n",
    "    \"\"\"\n",
    "    mean, stdev = stat\n",
    "    variance = stdev ** 2\n",
    "    exp_squared_diff = (x - mean) ** 2\n",
    "    exp_power = -exp_squared_diff / (2 * variance)\n",
    "    exponent = e ** exp_power\n",
    "    denominator = ((2 * pi) ** .5) * stdev\n",
    "    normal_prob = exponent / denominator\n",
    "    return normal_prob"
   ]
  },
  {
   "cell_type": "markdown",
   "id": "5aadc050-fb3d-4363-b337-6a97f3975981",
   "metadata": {},
   "source": [
    "Here is our counting function:"
   ]
  },
  {
   "cell_type": "code",
   "execution_count": 148,
   "id": "1b686ab6-46d4-4638-a7ef-700b1cf2b56b",
   "metadata": {},
   "outputs": [],
   "source": [
    "def produce_counts (train_set, column, results):\n",
    "    # counter = 5\n",
    "    col_idx = col_name_to_col_idx [column]\n",
    "    for tup in train_set.itertuples():\n",
    "        val = tup[col_idx]\n",
    "        class_label = tup[7]\n",
    "        prev = results [class_label][column]\n",
    "\n",
    "        if val not in prev.keys():\n",
    "            prev[val] = 0\n",
    "        prev[val] += 1    "
   ]
  },
  {
   "cell_type": "markdown",
   "id": "4877380c-e76a-477f-8580-55b4bba651d2",
   "metadata": {},
   "source": [
    "Based on these counts, we can pre-compute conditional probabilities for all combinations of cathegorical attributes and class labels:"
   ]
  },
  {
   "cell_type": "code",
   "execution_count": 149,
   "id": "9e9fd7b2-6474-4324-bfa9-1ef716d8e3c3",
   "metadata": {},
   "outputs": [],
   "source": [
    "def produce_probabilities(counts, results, class_label, total):\n",
    "    for col in counts[class_label].keys():\n",
    "        results[class_label][col] = {} \n",
    "        cardinality = len(counts[class_label][col].keys())\n",
    "        \n",
    "        for val in counts[class_label][col].keys():\n",
    "            results[class_label][col][val] = (counts[class_label][col][val] + 1)/(total + cardinality)      \n",
    "                "
   ]
  },
  {
   "cell_type": "markdown",
   "id": "e06d10e4-d062-4a2f-a957-b6c40d2d5862",
   "metadata": {},
   "source": [
    "The classification algorithm that classifies all the records in the *test_set*, based on the data in the *train_set*. \n",
    "\n",
    "The output is the list of classification results in form of a tuple (*classified*, *actual*), where *classified* is a class label obtained by our classification, and *actual* is the actual label of this record in the test set."
   ]
  },
  {
   "cell_type": "code",
   "execution_count": 150,
   "id": "66776824-0182-4724-bcc8-8178ac8ea269",
   "metadata": {},
   "outputs": [],
   "source": [
    "col_name_to_col_idx = {\"rank\":1, \"ethnicity\":2, \"gender\":3, \"language\":4 }\n",
    "idx_to_col_name = {1:\"rank\", 2: \"ethnicity\", 3: \"gender\", 4: \"language\"}\n",
    "\n",
    "def naive_bayes_classify (train_set, test_set):  \n",
    "    counts = {\"good\": {\"rank\":{}, \"ethnicity\":{}, \"gender\":{}, \"language\":{}}, \"bad\":{\"rank\":{}, \"ethnicity\":{}, \"gender\":{}, \"language\":{}} }   \n",
    "\n",
    "    total_good  = train_set.groupby(\"eval_categorical\").size()[\"good\"]\n",
    "    total_bad = train_set.groupby(\"eval_categorical\").size()[\"bad\"]\n",
    "    priors = {\"good\":total_good/(total_good+total_bad), \"bad\":total_bad/(total_good+total_bad) }\n",
    "\n",
    "    for col in col_name_to_col_idx.keys():\n",
    "        produce_counts(train_set, col, counts)   \n",
    "    # print(counts)\n",
    "    \n",
    "    probs = {\"good\":{}, \"bad\":{}}\n",
    "    produce_probabilities (counts,  probs, \"good\", total_good)\n",
    "    produce_probabilities (counts,  probs, \"bad\", total_bad)\n",
    "    # print(probs)\n",
    "\n",
    "    # means and std for normal distribution of numeric parameters\n",
    "    data_good = train_set[train_set[\"eval_categorical\"]== \"good\"]\n",
    "    data_bad = train_set[train_set[\"eval_categorical\"]== \"bad\"]\n",
    "\n",
    "    stats = {\"good\":{\"age\":(data_good[\"age\"].mean(), data_good[\"age\"].std(ddof=1)), \n",
    "                 \"bty_avg\":(data_good[\"bty_avg\"].mean(), data_good[\"bty_avg\"].std(ddof=1)) },\n",
    "        \"bad\":{\"age\":(data_bad[\"age\"].mean(), data_bad[\"age\"].std(ddof=1)), \n",
    "                 \"bty_avg\":(data_bad[\"bty_avg\"].mean(), data_bad[\"bty_avg\"].std(ddof=1)) }}\n",
    "    #print(stats)\n",
    "    \n",
    "    results = []\n",
    "    for tup in test_set.itertuples():\n",
    "        class_label = tup[7]\n",
    "        prob_good = log (priors[\"good\"]) \n",
    "        for k in col_name_to_col_idx.keys():\n",
    "            prob_good += log (probs[\"good\"][k][tup[col_name_to_col_idx[k]]]) \n",
    "        prob_good += normal_pdf(tup[5], stats[\"good\"][\"age\"])\n",
    "        prob_good += normal_pdf(tup[6], stats[\"good\"][\"bty_avg\"])\n",
    "        # print (\"good:\", prob_good)\n",
    "\n",
    "        prob_bad = log (priors[\"bad\"]) \n",
    "        for k in col_name_to_col_idx.keys():\n",
    "            prob_bad += log (probs[\"bad\"][k][tup[col_name_to_col_idx[k]]]) \n",
    "        prob_bad += normal_pdf(tup[5], stats[\"bad\"][\"age\"])\n",
    "        prob_bad += normal_pdf(tup[6], stats[\"bad\"][\"bty_avg\"])\n",
    "        # print (\"bad:\", prob_bad)\n",
    "\n",
    "        classified_as = \"good\"\n",
    "        if prob_bad > prob_good:\n",
    "            classified_as = \"bad\"\n",
    "        \n",
    "        results += [(classified_as, class_label )]    \n",
    "    return results"
   ]
  },
  {
   "cell_type": "markdown",
   "id": "496c48ce-9443-4a76-bec7-899f30d69a32",
   "metadata": {},
   "source": [
    "Let's run the classifier using the training and testing parts we obtained in the holdout section."
   ]
  },
  {
   "cell_type": "code",
   "execution_count": 151,
   "id": "3afb2c00-2a08-4e8a-98e7-0fd54baa21e8",
   "metadata": {
    "scrolled": true
   },
   "outputs": [
    {
     "name": "stdout",
     "output_type": "stream",
     "text": [
      "[('good', 'good'), ('good', 'good'), ('good', 'bad'), ('good', 'good'), ('bad', 'good')]\n",
      "Accuracy: 0.569620253164557\n"
     ]
    }
   ],
   "source": [
    "class_results = naive_bayes_classify(data_train, data_test)\n",
    "print(class_results[:5])\n",
    "\n",
    "correct_count = 0\n",
    "for r in range(len(class_results)):\n",
    "    if class_results[r][0] == class_results[r][1]:\n",
    "        correct_count+= 1\n",
    "print (\"Accuracy:\", correct_count/len(class_results))"
   ]
  },
  {
   "cell_type": "markdown",
   "id": "c7ba1b25-7fb6-4255-beb3-d411676025e8",
   "metadata": {},
   "source": [
    "<div style=\"background-color:yellow;\">\n",
    "    <h3>Task 1. Generate confidence interval for accuracy of the Naive Bayes</h3>    \n",
    "</div>\n",
    "You can write the code, or use the tables manually."
   ]
  },
  {
   "cell_type": "code",
   "execution_count": 152,
   "id": "e7b12ce5-d1ae-4ccc-8b3e-9945cf39d309",
   "metadata": {
    "scrolled": true
   },
   "outputs": [
    {
     "name": "stdout",
     "output_type": "stream",
     "text": [
      "0.5048230914684971\n",
      "0.6344174148606169\n"
     ]
    }
   ],
   "source": [
    "nb_accuracy = correct_count/len(class_results)\n",
    "# print(accuracy)\n",
    "nb_SE = (nb_accuracy * (1 - nb_accuracy) / (data_test.shape[0])) ** 0.5\n",
    "# print(SE)\n",
    "nb_CI_lwb = nb_accuracy - 1.645 * nb_SE\n",
    "print(nb_CI_lwb)\n",
    "nb_CI_upb = nb_accuracy + 1.645 * nb_SE\n",
    "print(nb_CI_upb)"
   ]
  },
  {
   "cell_type": "markdown",
   "id": "cbdeb87e-fadf-41bd-bfb0-2c9eca0e16be",
   "metadata": {},
   "source": [
    "**Answer**: The confidence interval for the performance of the Naive Bayes classifier is: [0.505, 0.634]"
   ]
  },
  {
   "cell_type": "markdown",
   "id": "26d4af64-97ed-4552-a5f5-1f8992408a94",
   "metadata": {},
   "source": [
    "### Cross-validation"
   ]
  },
  {
   "cell_type": "markdown",
   "id": "b13d29be-bc43-44ce-87c3-a7cedb3af7c1",
   "metadata": {},
   "source": [
    "We want to test the performance of two classifiers on different datasets &mdash; to get the mean of the paired difference. To create several traning/testing subsets we will use 10-fold cross-validation: we will divide our original dataset into 10 approximately equal parts (folds) and use 9 out of 10 folds for training and 1 fold for testing. Hence, the total number of performance experiments will be 10."
   ]
  },
  {
   "cell_type": "markdown",
   "id": "299b5913-d713-48d9-a97d-063db0f70430",
   "metadata": {},
   "source": [
    "<div style=\"background-color:yellow;\">\n",
    "    <h3>Task 2. Perform the 10-fold cross-validation with Naive Bayes</h3>    \n",
    "</div>"
   ]
  },
  {
   "cell_type": "markdown",
   "id": "fa115d5a-db27-40c2-831f-43b8830c65c4",
   "metadata": {},
   "source": [
    "Generate 10 equal non-overlapping subsets of data and store them in the list of pandas data frames called *folds*:"
   ]
  },
  {
   "cell_type": "code",
   "execution_count": 153,
   "id": "5c64d220-ed86-42de-bddb-ea4e0aa65a8e",
   "metadata": {},
   "outputs": [
    {
     "name": "stdout",
     "output_type": "stream",
     "text": [
      "Fold 0 size: 46\n",
      "Fold 1 size: 46\n",
      "Fold 2 size: 46\n",
      "Fold 3 size: 46\n",
      "Fold 4 size: 46\n",
      "Fold 5 size: 46\n",
      "Fold 6 size: 46\n",
      "Fold 7 size: 46\n",
      "Fold 8 size: 46\n",
      "Fold 9 size: 46\n"
     ]
    }
   ],
   "source": [
    "k = 10\n",
    "folds = []\n",
    "\n",
    "# TODO - your code\n",
    "\n",
    "fold_size = len(data) // k\n",
    "\n",
    "# print(fold_size)\n",
    "\n",
    "start_idx = 0\n",
    "for i in range(k):\n",
    "\n",
    "    end_idx = start_idx + fold_size\n",
    "    \n",
    "    folds.append(data.iloc[start_idx:end_idx])\n",
    "    start_idx = end_idx\n",
    "\n",
    "for i in range(k):\n",
    "    print(\"Fold\", i, \"size:\", folds[i].shape[0])"
   ]
  },
  {
   "cell_type": "markdown",
   "id": "becd9347-b668-4c4f-b40c-ab5faa303424",
   "metadata": {},
   "source": [
    "Implement the loop where you obtain classification results for each of the folds. Store these results in the list *nb_accuracies* for future use."
   ]
  },
  {
   "cell_type": "code",
   "execution_count": 154,
   "id": "e34d44f9-c5fa-4dfc-9b28-e77372f315df",
   "metadata": {},
   "outputs": [
    {
     "name": "stdout",
     "output_type": "stream",
     "text": [
      "[0.5652173913043478, 0.4782608695652174, 0.5217391304347826, 0.5652173913043478, 0.5217391304347826, 0.6956521739130435, 0.5434782608695652, 0.6086956521739131, 0.5434782608695652, 0.5]\n"
     ]
    }
   ],
   "source": [
    "nb_accuracies = []\n",
    "\n",
    "# TODO: your code\n",
    "\n",
    "for i in range(len(folds)):\n",
    "    test_set = folds[i]\n",
    "    train_sets = [folds[j] for j in range(len(folds)) if j != i]\n",
    "    train_set = pd.concat(train_sets)\n",
    "\n",
    "    class_results = naive_bayes_classify(train_set, test_set)\n",
    "\n",
    "    correct_count = sum(1 for result in class_results if result[0] == result[1])\n",
    "    accuracy = correct_count / len(test_set)\n",
    "    nb_accuracies.append(accuracy)\n",
    "    # print(f\"Accuracy for fold {i}: {accuracy}\")\n",
    "\n",
    "print(nb_accuracies)"
   ]
  },
  {
   "cell_type": "markdown",
   "id": "7fc4c27e-cae8-456f-849a-8ce12704b1aa",
   "metadata": {},
   "source": [
    "For comparison &mdash; here are our results: 0.5652173913043478, 0.4782608695652174, 0.5217391304347826, 0.5652173913043478, \n",
    "    0.5217391304347826, 0.6956521739130435, 0.5434782608695652, 0.6086956521739131, 0.5434782608695652, 0.5"
   ]
  },
  {
   "cell_type": "markdown",
   "id": "63a48f03-426e-4c70-b0e8-aeb30cc2fa2e",
   "metadata": {},
   "source": [
    "## Nearest Neighbors classifier (k-NN)"
   ]
  },
  {
   "cell_type": "markdown",
   "id": "6253b08d-0571-4558-b39c-6b44853363d5",
   "metadata": {},
   "source": [
    "This classifier assigns a class to a given record based on the class labels of *k* labeled records that are closest to it. The closest samples are selected based on a distance metric, then the neighbors vote and the majority class is assigned to a record in question.\n",
    "\n",
    "The value of *k* indicates the number of closest neighbors used to classify the test record. The value of *k* is non-parametric and a general rule of thumb in choosing the initial value of k is: k = sqrt(N)/2, where N stands for the number of samples in the training dataset. Another hint is to keep the value of k odd, so that there is no tie when choosing between two classes.\n",
    "\n",
    "For our dataset the size of the training set will be about 9 * 46 = 414, and sqrt(414)/2 is ~ 11. We will use k=11 nearest neighbors for our classification."
   ]
  },
  {
   "cell_type": "markdown",
   "id": "3d09000c-8b06-4cb7-a190-1c2425ed77e5",
   "metadata": {},
   "source": [
    "### Categorical to numeric (binary)\n",
    "To use distance metrics we must convert the categorical attributes to numeric. The most common method is to convert a categorical attribute into a set of binary attributes, such that for each categorical value there is a separate column, and the value in this column is either 0 or 1. This is called a \"one hot encoding\".\n",
    "\n",
    "One hot encoding for categorical columns:"
   ]
  },
  {
   "cell_type": "code",
   "execution_count": 155,
   "id": "dafd04da-a6cd-43e9-8829-420aed3b1b03",
   "metadata": {},
   "outputs": [
    {
     "data": {
      "text/html": [
       "<div>\n",
       "<style scoped>\n",
       "    .dataframe tbody tr th:only-of-type {\n",
       "        vertical-align: middle;\n",
       "    }\n",
       "\n",
       "    .dataframe tbody tr th {\n",
       "        vertical-align: top;\n",
       "    }\n",
       "\n",
       "    .dataframe thead th {\n",
       "        text-align: right;\n",
       "    }\n",
       "</style>\n",
       "<table border=\"1\" class=\"dataframe\">\n",
       "  <thead>\n",
       "    <tr style=\"text-align: right;\">\n",
       "      <th></th>\n",
       "      <th>teaching</th>\n",
       "      <th>tenure track</th>\n",
       "      <th>tenured</th>\n",
       "      <th>rank</th>\n",
       "    </tr>\n",
       "  </thead>\n",
       "  <tbody>\n",
       "    <tr>\n",
       "      <th>331</th>\n",
       "      <td>0</td>\n",
       "      <td>0</td>\n",
       "      <td>1</td>\n",
       "      <td>tenured</td>\n",
       "    </tr>\n",
       "    <tr>\n",
       "      <th>101</th>\n",
       "      <td>0</td>\n",
       "      <td>0</td>\n",
       "      <td>1</td>\n",
       "      <td>tenured</td>\n",
       "    </tr>\n",
       "    <tr>\n",
       "      <th>192</th>\n",
       "      <td>0</td>\n",
       "      <td>0</td>\n",
       "      <td>1</td>\n",
       "      <td>tenured</td>\n",
       "    </tr>\n",
       "    <tr>\n",
       "      <th>66</th>\n",
       "      <td>1</td>\n",
       "      <td>0</td>\n",
       "      <td>0</td>\n",
       "      <td>teaching</td>\n",
       "    </tr>\n",
       "    <tr>\n",
       "      <th>327</th>\n",
       "      <td>0</td>\n",
       "      <td>0</td>\n",
       "      <td>1</td>\n",
       "      <td>tenured</td>\n",
       "    </tr>\n",
       "  </tbody>\n",
       "</table>\n",
       "</div>"
      ],
      "text/plain": [
       "     teaching  tenure track  tenured      rank\n",
       "331         0             0        1   tenured\n",
       "101         0             0        1   tenured\n",
       "192         0             0        1   tenured\n",
       "66          1             0        0  teaching\n",
       "327         0             0        1   tenured"
      ]
     },
     "execution_count": 155,
     "metadata": {},
     "output_type": "execute_result"
    }
   ],
   "source": [
    "ohe_rank = pd.get_dummies(data[\"rank\"], dtype=int)\n",
    "pd.concat([ohe_rank, data[\"rank\"]], axis=1, sort=False).head()"
   ]
  },
  {
   "cell_type": "code",
   "execution_count": 156,
   "id": "fbd7116f-7927-43ce-af22-2d72bc68ea4d",
   "metadata": {},
   "outputs": [
    {
     "data": {
      "text/html": [
       "<div>\n",
       "<style scoped>\n",
       "    .dataframe tbody tr th:only-of-type {\n",
       "        vertical-align: middle;\n",
       "    }\n",
       "\n",
       "    .dataframe tbody tr th {\n",
       "        vertical-align: top;\n",
       "    }\n",
       "\n",
       "    .dataframe thead th {\n",
       "        text-align: right;\n",
       "    }\n",
       "</style>\n",
       "<table border=\"1\" class=\"dataframe\">\n",
       "  <thead>\n",
       "    <tr style=\"text-align: right;\">\n",
       "      <th></th>\n",
       "      <th>minority</th>\n",
       "      <th>not minority</th>\n",
       "      <th>ethnicity</th>\n",
       "    </tr>\n",
       "  </thead>\n",
       "  <tbody>\n",
       "    <tr>\n",
       "      <th>331</th>\n",
       "      <td>0</td>\n",
       "      <td>1</td>\n",
       "      <td>not minority</td>\n",
       "    </tr>\n",
       "    <tr>\n",
       "      <th>101</th>\n",
       "      <td>0</td>\n",
       "      <td>1</td>\n",
       "      <td>not minority</td>\n",
       "    </tr>\n",
       "    <tr>\n",
       "      <th>192</th>\n",
       "      <td>0</td>\n",
       "      <td>1</td>\n",
       "      <td>not minority</td>\n",
       "    </tr>\n",
       "    <tr>\n",
       "      <th>66</th>\n",
       "      <td>0</td>\n",
       "      <td>1</td>\n",
       "      <td>not minority</td>\n",
       "    </tr>\n",
       "    <tr>\n",
       "      <th>327</th>\n",
       "      <td>0</td>\n",
       "      <td>1</td>\n",
       "      <td>not minority</td>\n",
       "    </tr>\n",
       "  </tbody>\n",
       "</table>\n",
       "</div>"
      ],
      "text/plain": [
       "     minority  not minority     ethnicity\n",
       "331         0             1  not minority\n",
       "101         0             1  not minority\n",
       "192         0             1  not minority\n",
       "66          0             1  not minority\n",
       "327         0             1  not minority"
      ]
     },
     "execution_count": 156,
     "metadata": {},
     "output_type": "execute_result"
    }
   ],
   "source": [
    "ohe_ethnicity = pd.get_dummies(data[\"ethnicity\"], dtype=int)\n",
    "pd.concat([ohe_ethnicity, data[\"ethnicity\"]], axis=1, sort=False).head()"
   ]
  },
  {
   "cell_type": "code",
   "execution_count": 157,
   "id": "d91bf63b-e41a-4623-bdb3-2adf8dadb9af",
   "metadata": {},
   "outputs": [
    {
     "data": {
      "text/html": [
       "<div>\n",
       "<style scoped>\n",
       "    .dataframe tbody tr th:only-of-type {\n",
       "        vertical-align: middle;\n",
       "    }\n",
       "\n",
       "    .dataframe tbody tr th {\n",
       "        vertical-align: top;\n",
       "    }\n",
       "\n",
       "    .dataframe thead th {\n",
       "        text-align: right;\n",
       "    }\n",
       "</style>\n",
       "<table border=\"1\" class=\"dataframe\">\n",
       "  <thead>\n",
       "    <tr style=\"text-align: right;\">\n",
       "      <th></th>\n",
       "      <th>female</th>\n",
       "      <th>male</th>\n",
       "      <th>gender</th>\n",
       "    </tr>\n",
       "  </thead>\n",
       "  <tbody>\n",
       "    <tr>\n",
       "      <th>331</th>\n",
       "      <td>0</td>\n",
       "      <td>1</td>\n",
       "      <td>male</td>\n",
       "    </tr>\n",
       "    <tr>\n",
       "      <th>101</th>\n",
       "      <td>1</td>\n",
       "      <td>0</td>\n",
       "      <td>female</td>\n",
       "    </tr>\n",
       "    <tr>\n",
       "      <th>192</th>\n",
       "      <td>0</td>\n",
       "      <td>1</td>\n",
       "      <td>male</td>\n",
       "    </tr>\n",
       "    <tr>\n",
       "      <th>66</th>\n",
       "      <td>0</td>\n",
       "      <td>1</td>\n",
       "      <td>male</td>\n",
       "    </tr>\n",
       "    <tr>\n",
       "      <th>327</th>\n",
       "      <td>0</td>\n",
       "      <td>1</td>\n",
       "      <td>male</td>\n",
       "    </tr>\n",
       "  </tbody>\n",
       "</table>\n",
       "</div>"
      ],
      "text/plain": [
       "     female  male  gender\n",
       "331       0     1    male\n",
       "101       1     0  female\n",
       "192       0     1    male\n",
       "66        0     1    male\n",
       "327       0     1    male"
      ]
     },
     "execution_count": 157,
     "metadata": {},
     "output_type": "execute_result"
    }
   ],
   "source": [
    "ohe_gender = pd.get_dummies(data[\"gender\"], dtype=int)\n",
    "pd.concat([ohe_gender, data[\"gender\"]], axis=1, sort=False).head()"
   ]
  },
  {
   "cell_type": "code",
   "execution_count": 158,
   "id": "b221889e-91e1-4e8a-9b43-3ced9b075b1d",
   "metadata": {},
   "outputs": [
    {
     "data": {
      "text/html": [
       "<div>\n",
       "<style scoped>\n",
       "    .dataframe tbody tr th:only-of-type {\n",
       "        vertical-align: middle;\n",
       "    }\n",
       "\n",
       "    .dataframe tbody tr th {\n",
       "        vertical-align: top;\n",
       "    }\n",
       "\n",
       "    .dataframe thead th {\n",
       "        text-align: right;\n",
       "    }\n",
       "</style>\n",
       "<table border=\"1\" class=\"dataframe\">\n",
       "  <thead>\n",
       "    <tr style=\"text-align: right;\">\n",
       "      <th></th>\n",
       "      <th>english</th>\n",
       "      <th>non-english</th>\n",
       "      <th>language</th>\n",
       "    </tr>\n",
       "  </thead>\n",
       "  <tbody>\n",
       "    <tr>\n",
       "      <th>331</th>\n",
       "      <td>1</td>\n",
       "      <td>0</td>\n",
       "      <td>english</td>\n",
       "    </tr>\n",
       "    <tr>\n",
       "      <th>101</th>\n",
       "      <td>1</td>\n",
       "      <td>0</td>\n",
       "      <td>english</td>\n",
       "    </tr>\n",
       "    <tr>\n",
       "      <th>192</th>\n",
       "      <td>1</td>\n",
       "      <td>0</td>\n",
       "      <td>english</td>\n",
       "    </tr>\n",
       "    <tr>\n",
       "      <th>66</th>\n",
       "      <td>1</td>\n",
       "      <td>0</td>\n",
       "      <td>english</td>\n",
       "    </tr>\n",
       "    <tr>\n",
       "      <th>327</th>\n",
       "      <td>1</td>\n",
       "      <td>0</td>\n",
       "      <td>english</td>\n",
       "    </tr>\n",
       "  </tbody>\n",
       "</table>\n",
       "</div>"
      ],
      "text/plain": [
       "     english  non-english language\n",
       "331        1            0  english\n",
       "101        1            0  english\n",
       "192        1            0  english\n",
       "66         1            0  english\n",
       "327        1            0  english"
      ]
     },
     "execution_count": 158,
     "metadata": {},
     "output_type": "execute_result"
    }
   ],
   "source": [
    "ohe_language = pd.get_dummies(data[\"language\"], dtype=int)\n",
    "pd.concat([ohe_language, data[\"language\"]], axis=1, sort=False).head()"
   ]
  },
  {
   "cell_type": "markdown",
   "id": "e8befedf-663a-45c0-bcfa-9ca60044d9e6",
   "metadata": {},
   "source": [
    "Now we create a dataset where all the cathegorical attributes are replaced by the binary columns. This dataset is called *num_data* and it will be used in the k-NN classification."
   ]
  },
  {
   "cell_type": "code",
   "execution_count": 159,
   "id": "6f1327bf-075c-4d51-bf1f-f86966c52a82",
   "metadata": {},
   "outputs": [
    {
     "data": {
      "text/html": [
       "<div>\n",
       "<style scoped>\n",
       "    .dataframe tbody tr th:only-of-type {\n",
       "        vertical-align: middle;\n",
       "    }\n",
       "\n",
       "    .dataframe tbody tr th {\n",
       "        vertical-align: top;\n",
       "    }\n",
       "\n",
       "    .dataframe thead th {\n",
       "        text-align: right;\n",
       "    }\n",
       "</style>\n",
       "<table border=\"1\" class=\"dataframe\">\n",
       "  <thead>\n",
       "    <tr style=\"text-align: right;\">\n",
       "      <th></th>\n",
       "      <th>teaching</th>\n",
       "      <th>tenure track</th>\n",
       "      <th>tenured</th>\n",
       "      <th>minority</th>\n",
       "      <th>not minority</th>\n",
       "      <th>female</th>\n",
       "      <th>male</th>\n",
       "      <th>english</th>\n",
       "      <th>non-english</th>\n",
       "      <th>age</th>\n",
       "      <th>bty_avg</th>\n",
       "      <th>eval_categorical</th>\n",
       "    </tr>\n",
       "  </thead>\n",
       "  <tbody>\n",
       "    <tr>\n",
       "      <th>331</th>\n",
       "      <td>0</td>\n",
       "      <td>0</td>\n",
       "      <td>1</td>\n",
       "      <td>0</td>\n",
       "      <td>1</td>\n",
       "      <td>0</td>\n",
       "      <td>1</td>\n",
       "      <td>1</td>\n",
       "      <td>0</td>\n",
       "      <td>64</td>\n",
       "      <td>2.333</td>\n",
       "      <td>bad</td>\n",
       "    </tr>\n",
       "    <tr>\n",
       "      <th>101</th>\n",
       "      <td>0</td>\n",
       "      <td>0</td>\n",
       "      <td>1</td>\n",
       "      <td>0</td>\n",
       "      <td>1</td>\n",
       "      <td>1</td>\n",
       "      <td>0</td>\n",
       "      <td>1</td>\n",
       "      <td>0</td>\n",
       "      <td>46</td>\n",
       "      <td>4.333</td>\n",
       "      <td>good</td>\n",
       "    </tr>\n",
       "    <tr>\n",
       "      <th>192</th>\n",
       "      <td>0</td>\n",
       "      <td>0</td>\n",
       "      <td>1</td>\n",
       "      <td>0</td>\n",
       "      <td>1</td>\n",
       "      <td>0</td>\n",
       "      <td>1</td>\n",
       "      <td>1</td>\n",
       "      <td>0</td>\n",
       "      <td>54</td>\n",
       "      <td>2.333</td>\n",
       "      <td>good</td>\n",
       "    </tr>\n",
       "    <tr>\n",
       "      <th>66</th>\n",
       "      <td>1</td>\n",
       "      <td>0</td>\n",
       "      <td>0</td>\n",
       "      <td>0</td>\n",
       "      <td>1</td>\n",
       "      <td>0</td>\n",
       "      <td>1</td>\n",
       "      <td>1</td>\n",
       "      <td>0</td>\n",
       "      <td>37</td>\n",
       "      <td>4.333</td>\n",
       "      <td>bad</td>\n",
       "    </tr>\n",
       "    <tr>\n",
       "      <th>327</th>\n",
       "      <td>0</td>\n",
       "      <td>0</td>\n",
       "      <td>1</td>\n",
       "      <td>0</td>\n",
       "      <td>1</td>\n",
       "      <td>0</td>\n",
       "      <td>1</td>\n",
       "      <td>1</td>\n",
       "      <td>0</td>\n",
       "      <td>64</td>\n",
       "      <td>2.333</td>\n",
       "      <td>bad</td>\n",
       "    </tr>\n",
       "  </tbody>\n",
       "</table>\n",
       "</div>"
      ],
      "text/plain": [
       "     teaching  tenure track  tenured  minority  not minority  female  male  \\\n",
       "331         0             0        1         0             1       0     1   \n",
       "101         0             0        1         0             1       1     0   \n",
       "192         0             0        1         0             1       0     1   \n",
       "66          1             0        0         0             1       0     1   \n",
       "327         0             0        1         0             1       0     1   \n",
       "\n",
       "     english  non-english  age  bty_avg eval_categorical  \n",
       "331        1            0   64    2.333              bad  \n",
       "101        1            0   46    4.333             good  \n",
       "192        1            0   54    2.333             good  \n",
       "66         1            0   37    4.333              bad  \n",
       "327        1            0   64    2.333              bad  "
      ]
     },
     "execution_count": 159,
     "metadata": {},
     "output_type": "execute_result"
    }
   ],
   "source": [
    "num_data = pd.concat([ohe_rank, ohe_ethnicity, ohe_gender, ohe_language, data[[\"age\",\"bty_avg\",\"eval_categorical\"]]], axis=1, sort=False)\n",
    "num_data.head()"
   ]
  },
  {
   "cell_type": "markdown",
   "id": "cb79e16b-12ed-4bff-8b80-16b0f92dced9",
   "metadata": {},
   "source": [
    "Now all the data in num_data is numeric, and we can use the Euclidean distance to compute the distance between the records."
   ]
  },
  {
   "cell_type": "markdown",
   "id": "f1857a12-7ffb-4275-b7c2-45aba0383953",
   "metadata": {},
   "source": [
    "### Common scale\n",
    "You can see that the absolute values of different attributes are on different scales, and we better bring them all to the same interval between 0 and 1, since otherwise the difference in age will dominate an overall distance between two records.\n",
    "\n",
    "We transform numeric columns to a standard scale 0-1 using the following formula: x<sub>scaled</sub>=(x-min)/(max-min)"
   ]
  },
  {
   "cell_type": "code",
   "execution_count": 160,
   "id": "a921b3e0-86c2-4768-919f-c11f5caa026b",
   "metadata": {},
   "outputs": [],
   "source": [
    "# apply normalization techniques to column age \n",
    "column = 'age'\n",
    "num_data[column] = (num_data[column] - num_data[column].min()) / (num_data[column].max() - num_data[column].min())     "
   ]
  },
  {
   "cell_type": "code",
   "execution_count": 161,
   "id": "89ae9119-88c9-4c0b-a0d3-acdafe96bddf",
   "metadata": {
    "scrolled": true
   },
   "outputs": [
    {
     "data": {
      "text/html": [
       "<div>\n",
       "<style scoped>\n",
       "    .dataframe tbody tr th:only-of-type {\n",
       "        vertical-align: middle;\n",
       "    }\n",
       "\n",
       "    .dataframe tbody tr th {\n",
       "        vertical-align: top;\n",
       "    }\n",
       "\n",
       "    .dataframe thead th {\n",
       "        text-align: right;\n",
       "    }\n",
       "</style>\n",
       "<table border=\"1\" class=\"dataframe\">\n",
       "  <thead>\n",
       "    <tr style=\"text-align: right;\">\n",
       "      <th></th>\n",
       "      <th>teaching</th>\n",
       "      <th>tenure track</th>\n",
       "      <th>tenured</th>\n",
       "      <th>minority</th>\n",
       "      <th>not minority</th>\n",
       "      <th>female</th>\n",
       "      <th>male</th>\n",
       "      <th>english</th>\n",
       "      <th>non-english</th>\n",
       "      <th>age</th>\n",
       "      <th>bty_avg</th>\n",
       "      <th>eval_categorical</th>\n",
       "    </tr>\n",
       "  </thead>\n",
       "  <tbody>\n",
       "    <tr>\n",
       "      <th>331</th>\n",
       "      <td>0</td>\n",
       "      <td>0</td>\n",
       "      <td>1</td>\n",
       "      <td>0</td>\n",
       "      <td>1</td>\n",
       "      <td>0</td>\n",
       "      <td>1</td>\n",
       "      <td>1</td>\n",
       "      <td>0</td>\n",
       "      <td>0.795455</td>\n",
       "      <td>0.102462</td>\n",
       "      <td>bad</td>\n",
       "    </tr>\n",
       "    <tr>\n",
       "      <th>101</th>\n",
       "      <td>0</td>\n",
       "      <td>0</td>\n",
       "      <td>1</td>\n",
       "      <td>0</td>\n",
       "      <td>1</td>\n",
       "      <td>1</td>\n",
       "      <td>0</td>\n",
       "      <td>1</td>\n",
       "      <td>0</td>\n",
       "      <td>0.386364</td>\n",
       "      <td>0.410154</td>\n",
       "      <td>good</td>\n",
       "    </tr>\n",
       "    <tr>\n",
       "      <th>192</th>\n",
       "      <td>0</td>\n",
       "      <td>0</td>\n",
       "      <td>1</td>\n",
       "      <td>0</td>\n",
       "      <td>1</td>\n",
       "      <td>0</td>\n",
       "      <td>1</td>\n",
       "      <td>1</td>\n",
       "      <td>0</td>\n",
       "      <td>0.568182</td>\n",
       "      <td>0.102462</td>\n",
       "      <td>good</td>\n",
       "    </tr>\n",
       "    <tr>\n",
       "      <th>66</th>\n",
       "      <td>1</td>\n",
       "      <td>0</td>\n",
       "      <td>0</td>\n",
       "      <td>0</td>\n",
       "      <td>1</td>\n",
       "      <td>0</td>\n",
       "      <td>1</td>\n",
       "      <td>1</td>\n",
       "      <td>0</td>\n",
       "      <td>0.181818</td>\n",
       "      <td>0.410154</td>\n",
       "      <td>bad</td>\n",
       "    </tr>\n",
       "    <tr>\n",
       "      <th>327</th>\n",
       "      <td>0</td>\n",
       "      <td>0</td>\n",
       "      <td>1</td>\n",
       "      <td>0</td>\n",
       "      <td>1</td>\n",
       "      <td>0</td>\n",
       "      <td>1</td>\n",
       "      <td>1</td>\n",
       "      <td>0</td>\n",
       "      <td>0.795455</td>\n",
       "      <td>0.102462</td>\n",
       "      <td>bad</td>\n",
       "    </tr>\n",
       "    <tr>\n",
       "      <th>...</th>\n",
       "      <td>...</td>\n",
       "      <td>...</td>\n",
       "      <td>...</td>\n",
       "      <td>...</td>\n",
       "      <td>...</td>\n",
       "      <td>...</td>\n",
       "      <td>...</td>\n",
       "      <td>...</td>\n",
       "      <td>...</td>\n",
       "      <td>...</td>\n",
       "      <td>...</td>\n",
       "      <td>...</td>\n",
       "    </tr>\n",
       "    <tr>\n",
       "      <th>255</th>\n",
       "      <td>0</td>\n",
       "      <td>0</td>\n",
       "      <td>1</td>\n",
       "      <td>0</td>\n",
       "      <td>1</td>\n",
       "      <td>0</td>\n",
       "      <td>1</td>\n",
       "      <td>1</td>\n",
       "      <td>0</td>\n",
       "      <td>0.522727</td>\n",
       "      <td>0.230769</td>\n",
       "      <td>good</td>\n",
       "    </tr>\n",
       "    <tr>\n",
       "      <th>72</th>\n",
       "      <td>0</td>\n",
       "      <td>0</td>\n",
       "      <td>1</td>\n",
       "      <td>0</td>\n",
       "      <td>1</td>\n",
       "      <td>0</td>\n",
       "      <td>1</td>\n",
       "      <td>1</td>\n",
       "      <td>0</td>\n",
       "      <td>0.295455</td>\n",
       "      <td>0.487077</td>\n",
       "      <td>good</td>\n",
       "    </tr>\n",
       "    <tr>\n",
       "      <th>396</th>\n",
       "      <td>1</td>\n",
       "      <td>0</td>\n",
       "      <td>0</td>\n",
       "      <td>0</td>\n",
       "      <td>1</td>\n",
       "      <td>0</td>\n",
       "      <td>1</td>\n",
       "      <td>1</td>\n",
       "      <td>0</td>\n",
       "      <td>0.363636</td>\n",
       "      <td>0.256308</td>\n",
       "      <td>good</td>\n",
       "    </tr>\n",
       "    <tr>\n",
       "      <th>235</th>\n",
       "      <td>0</td>\n",
       "      <td>0</td>\n",
       "      <td>1</td>\n",
       "      <td>0</td>\n",
       "      <td>1</td>\n",
       "      <td>0</td>\n",
       "      <td>1</td>\n",
       "      <td>1</td>\n",
       "      <td>0</td>\n",
       "      <td>0.727273</td>\n",
       "      <td>0.487077</td>\n",
       "      <td>good</td>\n",
       "    </tr>\n",
       "    <tr>\n",
       "      <th>37</th>\n",
       "      <td>0</td>\n",
       "      <td>0</td>\n",
       "      <td>1</td>\n",
       "      <td>0</td>\n",
       "      <td>1</td>\n",
       "      <td>1</td>\n",
       "      <td>0</td>\n",
       "      <td>1</td>\n",
       "      <td>0</td>\n",
       "      <td>0.500000</td>\n",
       "      <td>0.358923</td>\n",
       "      <td>good</td>\n",
       "    </tr>\n",
       "  </tbody>\n",
       "</table>\n",
       "<p>463 rows × 12 columns</p>\n",
       "</div>"
      ],
      "text/plain": [
       "     teaching  tenure track  tenured  minority  not minority  female  male  \\\n",
       "331         0             0        1         0             1       0     1   \n",
       "101         0             0        1         0             1       1     0   \n",
       "192         0             0        1         0             1       0     1   \n",
       "66          1             0        0         0             1       0     1   \n",
       "327         0             0        1         0             1       0     1   \n",
       "..        ...           ...      ...       ...           ...     ...   ...   \n",
       "255         0             0        1         0             1       0     1   \n",
       "72          0             0        1         0             1       0     1   \n",
       "396         1             0        0         0             1       0     1   \n",
       "235         0             0        1         0             1       0     1   \n",
       "37          0             0        1         0             1       1     0   \n",
       "\n",
       "     english  non-english       age   bty_avg eval_categorical  \n",
       "331        1            0  0.795455  0.102462              bad  \n",
       "101        1            0  0.386364  0.410154             good  \n",
       "192        1            0  0.568182  0.102462             good  \n",
       "66         1            0  0.181818  0.410154              bad  \n",
       "327        1            0  0.795455  0.102462              bad  \n",
       "..       ...          ...       ...       ...              ...  \n",
       "255        1            0  0.522727  0.230769             good  \n",
       "72         1            0  0.295455  0.487077             good  \n",
       "396        1            0  0.363636  0.256308             good  \n",
       "235        1            0  0.727273  0.487077             good  \n",
       "37         1            0  0.500000  0.358923             good  \n",
       "\n",
       "[463 rows x 12 columns]"
      ]
     },
     "metadata": {},
     "output_type": "display_data"
    }
   ],
   "source": [
    "# apply normalization techniques to column bty_avg \n",
    "column = 'bty_avg'\n",
    "num_data[column] = (num_data[column] - num_data[column].min()) / (num_data[column].max() - num_data[column].min())     \n",
    "  \n",
    "# view normalized data \n",
    "display(num_data) "
   ]
  },
  {
   "cell_type": "markdown",
   "id": "93bc7534-6259-4368-ae68-7d424e96d2bb",
   "metadata": {},
   "source": [
    "### Holdout for the numeric dataset\n",
    "Divide the dataset into training and testing sets in proportion of 2:1."
   ]
  },
  {
   "cell_type": "code",
   "execution_count": 162,
   "id": "bb00a7f2-e1cb-4404-bbb0-e02dd6448f0f",
   "metadata": {},
   "outputs": [],
   "source": [
    "# Select ratio\n",
    "ratio = 0.66\n",
    " \n",
    "total_rows = num_data.shape[0]\n",
    "train_size = int(total_rows*ratio)\n",
    " \n",
    "# Split data into test and train\n",
    "num_data_train = num_data[0:train_size]\n",
    "num_data_test = num_data[train_size:]\n",
    "\n",
    "# print(total_rows)\n",
    "# print(train_size)\n",
    "# print(len(num_data_test))"
   ]
  },
  {
   "cell_type": "markdown",
   "id": "4d0afc29-4b9a-481a-a18b-b362b73dd40b",
   "metadata": {},
   "source": [
    "Now you have the input dataset for the k-NN classification."
   ]
  },
  {
   "cell_type": "markdown",
   "id": "23480ff3-90a3-48e6-aa6c-3365a6cbe962",
   "metadata": {},
   "source": [
    "<div style=\"background-color:yellow;\">\n",
    "    <h3>Task 3. Implement the k-NN classifier</h3>    \n",
    "</div>"
   ]
  },
  {
   "cell_type": "markdown",
   "id": "963e566a-18fc-4be2-a4a9-7a38192f43f2",
   "metadata": {},
   "source": [
    "Note that this is a \"lazy\" classifier and nothing can be precomputed. Both the training and the test sets are used only during classification."
   ]
  },
  {
   "cell_type": "markdown",
   "id": "1abce20e-320f-4f81-b12b-895d92c36280",
   "metadata": {},
   "source": [
    "The output of a classifier should be the list of classification results in form of a tuple (*classified*, *actual*), where *classified* is a class label obtained by our classification, and *actual* is the actual label of this record in the test set."
   ]
  },
  {
   "cell_type": "code",
   "execution_count": 163,
   "id": "df0d9741-8af4-464f-bd64-cc3564a35178",
   "metadata": {},
   "outputs": [],
   "source": [
    "def euclidean_distance(instance1, instance2):\n",
    "    \"\"\"Calculate the Euclidean distance between two instances.\"\"\"\n",
    "    return np.sqrt(np.sum((instance1 - instance2) ** 2))"
   ]
  },
  {
   "cell_type": "code",
   "execution_count": 164,
   "id": "f05ff09f-3dc1-4120-a1f7-c3fb84286959",
   "metadata": {},
   "outputs": [],
   "source": [
    "import numpy as np\n",
    "def knn_classify(train_set, test_set, knn):\n",
    "    results  = []\n",
    "    # TODO: your code here\n",
    "    # Extract just the features and the labels\n",
    "    train_features = train_set.iloc[:, :-1]\n",
    "    train_labels = train_set.iloc[:, -1]\n",
    "    test_features = test_set.iloc[:, :-1]\n",
    "    test_labels = test_set.iloc[:, -1]\n",
    "\n",
    "    for index, test_instance in test_features.iterrows():\n",
    "        # Calculate distances from this test instance to all training instances\n",
    "        distances = train_features.apply(lambda train_instance: euclidean_distance(test_instance, train_instance), axis=1)\n",
    "        \n",
    "        # Get the indices of the k smallest distances\n",
    "        nearest_neighbors_indices = distances.nsmallest(k).index\n",
    "        \n",
    "        # Get the labels of the nearest neighbors\n",
    "        nearest_labels = train_labels.loc[nearest_neighbors_indices]\n",
    "        \n",
    "        # Determine the most common label (mode)\n",
    "        most_common_label = nearest_labels.mode()[0]\n",
    "        \n",
    "        # Append the result as (classified_label, actual_label)\n",
    "        results.append((most_common_label, test_labels.loc[index]))\n",
    "\n",
    "    return results"
   ]
  },
  {
   "cell_type": "markdown",
   "id": "3130ed67-ff6d-4e8d-94fd-c6357a3cf51d",
   "metadata": {},
   "source": [
    "<div style=\"background-color:yellow;\">\n",
    "    <h3>Task 4. Generate the confidence interval for the k-NN accuracy </h3>    \n",
    "</div>\n",
    "This is based on the holdout estimation. \n",
    "Run your classifier, obtain the accuracy of the sample, and then produce a confidence interval. You can write the code, or use the tables manually."
   ]
  },
  {
   "cell_type": "code",
   "execution_count": 165,
   "id": "4767e304-1fc4-4a55-8d15-4060284237f9",
   "metadata": {},
   "outputs": [
    {
     "name": "stdout",
     "output_type": "stream",
     "text": [
      "[('good', 'good'), ('good', 'good'), ('good', 'bad'), ('good', 'good'), ('good', 'good')]\n",
      "Accuracy for KNN 0.5632911392405063\n",
      "0.4983829011480211\n",
      "0.6281993773329916\n"
     ]
    }
   ],
   "source": [
    "class_results = knn_classify(num_data_train, num_data_test, 11)\n",
    "print(class_results[:5])\n",
    "\n",
    "# TODO: classify and compute accuracy\n",
    "def compute_accuracy(class_results):\n",
    "    \"\"\"Compute the accuracy of classification results.\"\"\"\n",
    "    correct = sum(1 for classified, actual in class_results if classified == actual)\n",
    "    return correct / len(class_results)\n",
    "\n",
    "knn_accuracy = compute_accuracy(class_results)\n",
    "print(\"Accuracy for KNN\", knn_accuracy)\n",
    "\n",
    "knn_SE = (knn_accuracy * (1 - knn_accuracy) / (data_test.shape[0])) ** 0.5\n",
    "# print(knn_SE)\n",
    "knn_CI_lwb = knn_accuracy - 1.645 * knn_SE\n",
    "print(knn_CI_lwb)\n",
    "knn_CI_upb = knn_accuracy + 1.645 * knn_SE\n",
    "print(knn_CI_upb)"
   ]
  },
  {
   "cell_type": "markdown",
   "id": "376416f1-acd1-476f-902a-4a24e261f463",
   "metadata": {},
   "source": [
    "Our accuracy was: 0.5569620253164557\n",
    "\n",
    "**Your answer**: The confidence interval for the performance of the k-NN classifier is: [0.498, 0.628]"
   ]
  },
  {
   "cell_type": "markdown",
   "id": "a8813f2f-5591-4577-b83b-99fb53d204b0",
   "metadata": {},
   "source": [
    "<div style=\"background-color:yellow;\">\n",
    "    <h3>Task 5. Perform the 10-fold cross-validation with k-NN</h3>    \n",
    "</div>\n"
   ]
  },
  {
   "cell_type": "markdown",
   "id": "3e322a68-5a19-444a-ae7d-c43e757d902b",
   "metadata": {},
   "source": [
    "Generate 10 equal non-overlapping subsets of numeric data from the numeric dataset and store them in the list of pandas data frames called *num_folds*:"
   ]
  },
  {
   "cell_type": "code",
   "execution_count": 166,
   "id": "ad2e95bd-2d8b-4fae-a6c6-e67e7a7b6079",
   "metadata": {},
   "outputs": [
    {
     "name": "stdout",
     "output_type": "stream",
     "text": [
      "Fold 0 size: 46\n",
      "Fold 1 size: 46\n",
      "Fold 2 size: 46\n",
      "Fold 3 size: 46\n",
      "Fold 4 size: 46\n",
      "Fold 5 size: 46\n",
      "Fold 6 size: 46\n",
      "Fold 7 size: 46\n",
      "Fold 8 size: 46\n",
      "Fold 9 size: 46\n"
     ]
    }
   ],
   "source": [
    "k = 10  # k here is the number of folds\n",
    "num_folds = []\n",
    "\n",
    "#TODO numeric folds\n",
    "fold_size = len(num_data) // k\n",
    "start_idx = 0\n",
    "\n",
    "for i in range(k):\n",
    "\n",
    "    end_idx = start_idx + fold_size\n",
    "\n",
    "    fold = num_data.iloc[start_idx:end_idx]\n",
    "    num_folds.append(fold)\n",
    "    start_idx = end_idx\n",
    "\n",
    "for i, fold in enumerate(num_folds):\n",
    "    print(f\"Fold {i} size: {len(fold)}\")"
   ]
  },
  {
   "cell_type": "markdown",
   "id": "0a0ca666-11ff-46bd-8b8c-d88359cd11bb",
   "metadata": {},
   "source": [
    "Implement the loop to perform 10-fold cross-validation. Store the classification results in the list *knn_accuracies* for future use."
   ]
  },
  {
   "cell_type": "code",
   "execution_count": 167,
   "id": "ae2163b5-0baf-4344-b4ef-5c7adeb65e02",
   "metadata": {},
   "outputs": [
    {
     "name": "stdout",
     "output_type": "stream",
     "text": [
      "[0.6304347826086957, 0.6956521739130435, 0.5, 0.6086956521739131, 0.6521739130434783, 0.5652173913043478, 0.6739130434782609, 0.5652173913043478, 0.6521739130434783, 0.6956521739130435]\n"
     ]
    }
   ],
   "source": [
    "knn = 11 # knn here is the number of nearest neighbors\n",
    "knn_accuracies = []\n",
    "# TODO: your code here\n",
    "for i in range(10):\n",
    "\n",
    "    train_set = pd.concat([fold for j, fold in enumerate(num_folds) if j != i])\n",
    "    test_set = num_folds[i]\n",
    "\n",
    "    class_results = knn_classify(train_set, test_set, knn)\n",
    "\n",
    "    fold_accuracy = sum(1 for classified, actual in class_results if classified == actual) / len(class_results)\n",
    "\n",
    "    knn_accuracies.append(fold_accuracy)\n",
    "\n",
    "print (knn_accuracies)"
   ]
  },
  {
   "cell_type": "markdown",
   "id": "c83628bf-916c-4059-9416-492ced7c12d9",
   "metadata": {},
   "source": [
    "Our results were:\n",
    "0.6304347826086957, 0.717391304347826, 0.5, 0.6304347826086957, 0.5869565217391305, 0.6304347826086957, \n",
    "0.717391304347826, 0.6521739130434783, 0.6956521739130435, 0.6739130434782609"
   ]
  },
  {
   "cell_type": "markdown",
   "id": "ac6a5114-8f61-4e26-8e8e-e132f364f4dc",
   "metadata": {},
   "source": [
    "<div style=\"background-color:yellow;\">\n",
    "    <h3>Task 6. Compare performance of two classifiers</h3>    \n",
    "</div>"
   ]
  },
  {
   "cell_type": "markdown",
   "id": "f45efd6d-f14d-413d-b26b-9e7236cbb7bd",
   "metadata": {},
   "source": [
    "Based on the paired results stored in lists *nb_accuracies* and *knn_accuracies*, test the hypothesis that the two classifiers do not have the same performance at a significance level 0.05. Recall that we need to use the t-ditribution for the mean of differences. Again, you can either implement the computation or use the tables manually.\n",
    "\n",
    "**If you are not writing the code, please clearly explain all the steps of your computation**."
   ]
  },
  {
   "cell_type": "code",
   "execution_count": 190,
   "id": "9535630f-4afd-4fb3-8aba-5231516a4917",
   "metadata": {},
   "outputs": [
    {
     "name": "stdout",
     "output_type": "stream",
     "text": [
      "t_statistic:  -2.0034812907112376\n",
      "Fail to reject the null hypothesis.\n"
     ]
    }
   ],
   "source": [
    "# Calculate differences between paired observations\n",
    "differences = np.array(nb_accuracies) - np.array(knn_accuracies)\n",
    "\n",
    "# Calculate the mean and standard deviation of the differences\n",
    "mean_diff = np.mean(differences)\n",
    "std_diff = np.std(differences, ddof=1)  # ddof=1 provides an unbiased estimator\n",
    "\n",
    "n = len(differences)  # Number of pairs\n",
    "t_statistic = mean_diff / (std_diff / np.sqrt(n))\n",
    "# print(\"dof:\", n-1)\n",
    "print(\"t_statistic: \", t_statistic)\n",
    "\n",
    "# looked up the t-table and found the critical value:\n",
    "t_critical = 2.262  # dof = 9 at alpha = 0.05 (two-tailed)\n",
    "\n",
    "# Compare t-statistic to the critical t-value\n",
    "if abs(t_statistic) > t_critical:\n",
    "    print(\"Reject the null hypothesis.\")\n",
    "else:\n",
    "    print(\"Fail to reject the null hypothesis.\")"
   ]
  },
  {
   "cell_type": "markdown",
   "id": "b636b6bf-19a8-43a0-adea-c59421773d22",
   "metadata": {},
   "source": [
    "<div style=\"background-color:yellow;\">\n",
    "    <h3>Task 7. Use the best classifier</h3>    \n",
    "</div>\n",
    "Which classifier is significantly better? \n",
    "\n",
    "Use it to predict the evaluation results for instructors that you know.\n",
    "Now you can use the entire dataset as a training set.\n",
    "\n",
    "Did the predicted class labels correspond to your own evaluations? \n",
    "\n",
    "Discuss all these questions and add any notes about this lab in a separate cell below."
   ]
  },
  {
   "cell_type": "markdown",
   "id": "909beaa4-3b38-4f49-a917-7e80c8566314",
   "metadata": {},
   "source": []
  },
  {
   "cell_type": "markdown",
   "id": "21333ea1-26c7-4b5d-9ef4-6d3c9670cf15",
   "metadata": {},
   "source": [
    "My Answer:\n",
    "\n",
    "Because we fail to reject the null hypothesis in the previous task. There's no a classifier which is significantly better then another. Two classifiers have similar performance at a significance level 0.05."
   ]
  },
  {
   "cell_type": "code",
   "execution_count": 191,
   "id": "a35330c3-e3a7-4c78-b852-619e6833035e",
   "metadata": {},
   "outputs": [],
   "source": [
    "#print(num_data.head())"
   ]
  },
  {
   "cell_type": "code",
   "execution_count": 182,
   "id": "4186e705-d561-4a68-86fa-5b66fc5667b3",
   "metadata": {},
   "outputs": [],
   "source": [
    "# Create a new DataFrame for new instructors\n",
    "new_data = pd.DataFrame({\n",
    "    \"teaching\": [0, 0, 1, 0, 0, 0],\n",
    "    \"tenure track\": [0, 0, 0, 0, 1, 1],\n",
    "    \"tenured\":[0, 1, 1, 1, 1, 1],\n",
    "    \"minority\": [1, 0, 1, 0, 0, 0],\n",
    "    \"notminority\": [0, 1, 0, 1 , 1, 1],\n",
    "    \"female\": [1, 0, 1, 1, 0, 1],\n",
    "    \"male\": [0, 1, 0, 0, 1, 0],\n",
    "    \"english\": [1, 0, 0, 0, 1, 0],\n",
    "    \"non-english\": [0, 1, 1, 1, 0, 1],\n",
    "    \"age\": [0.38, 0.49, 0.61, 0.43, 0.67, 0.54],\n",
    "    \"bty_avg\": [0.10, 0.41, 0.12, 0.13, 0.16, 0.18],\n",
    "    \"eval_categorical\": [\"bad\", \"good\", \"bad\", \"bad\", \"bad\", \"bad\"]\n",
    "})"
   ]
  },
  {
   "cell_type": "code",
   "execution_count": 188,
   "id": "2d603d66-e9e3-421d-b542-ea32c907cebe",
   "metadata": {},
   "outputs": [
    {
     "name": "stdout",
     "output_type": "stream",
     "text": [
      "0.6666666666666666\n"
     ]
    }
   ],
   "source": [
    "# Use k-NN with the whole dataset\n",
    "trained_classifier = knn_classify(num_data, new_data, 11)\n",
    "# print(trained_classifier)\n",
    "# Compute the accuracy\n",
    "t7_knn_accuracy = compute_accuracy(trained_classifier)\n",
    "print(t7_knn_accuracy)"
   ]
  },
  {
   "cell_type": "markdown",
   "id": "6902aa48-f009-4d2b-a80b-baede6bb6623",
   "metadata": {},
   "source": [
    "Since two classifers have similar performance. I chose k-NN classfier to test on my new created data frame. \n",
    "\n",
    "I made a new data frame based on the evaluation results for instructors that I know. Then put the whole dataset into the traning set and my new data frame into the test set. Then I got an accuracy of 0.67. \n",
    "\n",
    "So, the predicted class labels have a 0.67 accuracy correspond to my own evaluations."
   ]
  },
  {
   "cell_type": "markdown",
   "id": "0f46caf0-3a4f-4658-8351-a31a033b9b2a",
   "metadata": {},
   "source": [
    "#### This is the end of the Skill lab 3. \n",
    "\n",
    "Copyright &copy; 2024 Marina Barsky."
   ]
  }
 ],
 "metadata": {
  "kernelspec": {
   "display_name": "Python 3 (ipykernel)",
   "language": "python",
   "name": "python3"
  },
  "language_info": {
   "codemirror_mode": {
    "name": "ipython",
    "version": 3
   },
   "file_extension": ".py",
   "mimetype": "text/x-python",
   "name": "python",
   "nbconvert_exporter": "python",
   "pygments_lexer": "ipython3",
   "version": "3.12.0"
  }
 },
 "nbformat": 4,
 "nbformat_minor": 5
}
